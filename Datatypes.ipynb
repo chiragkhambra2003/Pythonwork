{
 "cells": [
  {
   "cell_type": "code",
   "execution_count": 4,
   "id": "04f9ed14",
   "metadata": {},
   "outputs": [
    {
     "name": "stdout",
     "output_type": "stream",
     "text": [
      "hi my name is chirag khambra\n",
      "<class 'str'>\n",
      "a\n"
     ]
    }
   ],
   "source": [
    "s = 'hi my name is chirag khambra'\n",
    "print(s)\n",
    "print(type(s))\n",
    "print(s[-1])"
   ]
  },
  {
   "cell_type": "code",
   "execution_count": null,
   "id": "c2e6a503",
   "metadata": {},
   "outputs": [
    {
     "name": "stdout",
     "output_type": "stream",
     "text": [
      "[1, 2, 3]\n",
      "['hi', 'my', 'name', 'is', 'chirag', 4]\n"
     ]
    }
   ],
   "source": [
    "a = [1,2,3]\n",
    "print(a)\n",
    "b = ['hi','my', 'name','is','chirag',4]\n",
    "print(b)"
   ]
  },
  {
   "cell_type": "code",
   "execution_count": null,
   "id": "c12ca6e8",
   "metadata": {},
   "outputs": [],
   "source": [
    "Adding Elements in a list"
   ]
  },
  {
   "cell_type": "code",
   "execution_count": null,
   "id": "e94063aa",
   "metadata": {},
   "outputs": [],
   "source": [
    "The first method is using append  function which inserts element specified at the end of the list"
   ]
  },
  {
   "cell_type": "code",
   "execution_count": 6,
   "id": "6c8f425a",
   "metadata": {},
   "outputs": [
    {
     "name": "stdout",
     "output_type": "stream",
     "text": [
      "[1, 2, 3, 'orange']\n"
     ]
    }
   ],
   "source": [
    "a.append('orange')\n",
    "print(a)"
   ]
  },
  {
   "cell_type": "code",
   "execution_count": null,
   "id": "5842ccee",
   "metadata": {},
   "outputs": [],
   "source": [
    "The second method is using insert function whihch inserts element at a specific index"
   ]
  },
  {
   "cell_type": "code",
   "execution_count": 14,
   "id": "bf8212b0",
   "metadata": {},
   "outputs": [
    {
     "name": "stdout",
     "output_type": "stream",
     "text": [
      "['banana', 'banana', 1, 2, 3, 'orange']\n"
     ]
    }
   ],
   "source": [
    "a.insert(0,'banana')\n",
    "print(a)"
   ]
  },
  {
   "cell_type": "code",
   "execution_count": null,
   "id": "5fa074dc",
   "metadata": {},
   "outputs": [],
   "source": [
    "The third method is using extend funtion"
   ]
  },
  {
   "cell_type": "code",
   "execution_count": 16,
   "id": "9bb1b306",
   "metadata": {},
   "outputs": [
    {
     "name": "stdout",
     "output_type": "stream",
     "text": [
      "['banana', 'banana', 1, 2, 3, 'orange', 'hi', 'my', 'name', 'is', 'chirag', 4]\n"
     ]
    }
   ],
   "source": [
    "a.extend(b)\n",
    "print(a)"
   ]
  },
  {
   "cell_type": "code",
   "execution_count": null,
   "id": "1959aed8",
   "metadata": {},
   "outputs": [],
   "source": [
    "Altering existing elements in a list"
   ]
  },
  {
   "cell_type": "code",
   "execution_count": 17,
   "id": "fae834fc",
   "metadata": {},
   "outputs": [
    {
     "name": "stdout",
     "output_type": "stream",
     "text": [
      "[2, 'banana', 1, 2, 3, 'orange', 'hi', 'my', 'name', 'is', 'chirag', 4]\n"
     ]
    }
   ],
   "source": [
    "a[0] = 2\n",
    "print(a)"
   ]
  },
  {
   "cell_type": "code",
   "execution_count": null,
   "id": "1275cc5f",
   "metadata": {},
   "outputs": [],
   "source": [
    "Deleting elements in a list"
   ]
  },
  {
   "cell_type": "code",
   "execution_count": null,
   "id": "2d899f53",
   "metadata": {},
   "outputs": [],
   "source": [
    "The first method is using remove function"
   ]
  },
  {
   "cell_type": "code",
   "execution_count": 18,
   "id": "01629660",
   "metadata": {},
   "outputs": [
    {
     "name": "stdout",
     "output_type": "stream",
     "text": [
      "['apple', 'grapes']\n"
     ]
    }
   ],
   "source": [
    "fruits = ['banana', 'apple', 'grapes']\n",
    "fruits.remove('banana')\n",
    "print(fruits)"
   ]
  },
  {
   "cell_type": "code",
   "execution_count": 19,
   "id": "6bf98010",
   "metadata": {},
   "outputs": [
    {
     "name": "stdout",
     "output_type": "stream",
     "text": [
      "['apple', 'grapes', 'banana', 'banana']\n"
     ]
    }
   ],
   "source": [
    "fruits.extend(['banana','banana'])\n",
    "print(fruits)\n"
   ]
  },
  {
   "cell_type": "code",
   "execution_count": 21,
   "id": "829bc3af",
   "metadata": {},
   "outputs": [
    {
     "name": "stdout",
     "output_type": "stream",
     "text": [
      "['apple', 'grapes', 'banana']\n"
     ]
    }
   ],
   "source": [
    "print(fruits)"
   ]
  },
  {
   "cell_type": "code",
   "execution_count": 23,
   "id": "b9b68678",
   "metadata": {},
   "outputs": [
    {
     "name": "stdout",
     "output_type": "stream",
     "text": [
      "['apple', 'grapes', 'banana', 'grapes', 'grapes']\n",
      "['apple', 'banana', 'grapes', 'grapes']\n"
     ]
    }
   ],
   "source": [
    "fruits.append('grapes')\n",
    "print(fruits)\n",
    "fruits.remove('grapes')\n",
    "print(fruits)"
   ]
  },
  {
   "cell_type": "code",
   "execution_count": null,
   "id": "caed9e31",
   "metadata": {},
   "outputs": [],
   "source": [
    "so it can be seen that the fist occurence 'banana' is deleted"
   ]
  },
  {
   "cell_type": "code",
   "execution_count": null,
   "id": "449f851c",
   "metadata": {},
   "outputs": [],
   "source": [
    "Another datatype in python is tuple but it is immutable"
   ]
  },
  {
   "cell_type": "code",
   "execution_count": 25,
   "id": "55c8acf3",
   "metadata": {},
   "outputs": [],
   "source": [
    "t1 = ('chirag','khambra',6)"
   ]
  },
  {
   "cell_type": "code",
   "execution_count": 26,
   "id": "99426193",
   "metadata": {},
   "outputs": [
    {
     "name": "stdout",
     "output_type": "stream",
     "text": [
      "('chirag', 'khambra', 6)\n"
     ]
    }
   ],
   "source": [
    "print(t1)"
   ]
  },
  {
   "cell_type": "code",
   "execution_count": null,
   "id": "365f87d3",
   "metadata": {},
   "outputs": [],
   "source": [
    "Another datatype in python is set whichi is unordered"
   ]
  },
  {
   "cell_type": "code",
   "execution_count": 31,
   "id": "b3a525ad",
   "metadata": {},
   "outputs": [
    {
     "name": "stdout",
     "output_type": "stream",
     "text": [
      "{10, 20, 30}\n"
     ]
    }
   ],
   "source": [
    "myset = {10,20,30}\n",
    "print(myset)"
   ]
  },
  {
   "cell_type": "code",
   "execution_count": 35,
   "id": "d2d93e61",
   "metadata": {},
   "outputs": [
    {
     "name": "stdout",
     "output_type": "stream",
     "text": [
      "{10, 20, 30}\n"
     ]
    }
   ],
   "source": [
    "print(myset)"
   ]
  },
  {
   "cell_type": "code",
   "execution_count": 42,
   "id": "35349c39",
   "metadata": {},
   "outputs": [
    {
     "name": "stdout",
     "output_type": "stream",
     "text": [
      "{10, 20, 30}\n"
     ]
    }
   ],
   "source": [
    "print(myset)"
   ]
  },
  {
   "cell_type": "code",
   "execution_count": 43,
   "id": "b368f073",
   "metadata": {},
   "outputs": [
    {
     "name": "stdout",
     "output_type": "stream",
     "text": [
      "{10, 20, 30}\n"
     ]
    }
   ],
   "source": [
    "print(myset)"
   ]
  },
  {
   "cell_type": "code",
   "execution_count": 44,
   "id": "13fd376c",
   "metadata": {},
   "outputs": [
    {
     "ename": "TypeError",
     "evalue": "'set' object is not subscriptable",
     "output_type": "error",
     "traceback": [
      "\u001b[1;31m---------------------------------------------------------------------------\u001b[0m",
      "\u001b[1;31mTypeError\u001b[0m                                 Traceback (most recent call last)",
      "Cell \u001b[1;32mIn[44], line 1\u001b[0m\n\u001b[1;32m----> 1\u001b[0m \u001b[38;5;28mprint\u001b[39m(\u001b[43mmyset\u001b[49m\u001b[43m[\u001b[49m\u001b[38;5;241;43m0\u001b[39;49m\u001b[43m]\u001b[49m)\n",
      "\u001b[1;31mTypeError\u001b[0m: 'set' object is not subscriptable"
     ]
    }
   ],
   "source": [
    "print(myset[0])"
   ]
  },
  {
   "cell_type": "code",
   "execution_count": 49,
   "id": "29e26ac7",
   "metadata": {},
   "outputs": [
    {
     "name": "stdout",
     "output_type": "stream",
     "text": [
      "{1, 2, 3, 4, 5, 'hello'}\n"
     ]
    }
   ],
   "source": [
    "gamma = set([1,2,3,4,5,'hello'])\n",
    "print(gamma)"
   ]
  },
  {
   "cell_type": "code",
   "execution_count": null,
   "id": "9d2557a4",
   "metadata": {},
   "outputs": [],
   "source": [
    "We cannot access elements in sets using indexing"
   ]
  },
  {
   "cell_type": "code",
   "execution_count": 50,
   "id": "7e455a40",
   "metadata": {},
   "outputs": [
    {
     "name": "stdout",
     "output_type": "stream",
     "text": [
      "1\n",
      "2\n",
      "3\n",
      "4\n",
      "5\n",
      "hello\n"
     ]
    }
   ],
   "source": [
    "for i in gamma:\n",
    "    print(i)"
   ]
  },
  {
   "cell_type": "code",
   "execution_count": 2,
   "id": "208185a2",
   "metadata": {},
   "outputs": [
    {
     "name": "stdout",
     "output_type": "stream",
     "text": [
      "(1, 2, 3, 4, 5, 6, 7)\n",
      "(2, 3, 4)\n"
     ]
    }
   ],
   "source": [
    "beta = tuple([1,2,3,4,5,6,7])\n",
    "print(beta)\n",
    "delta = tuple({2,3,4})\n",
    "print(delta)"
   ]
  },
  {
   "cell_type": "code",
   "execution_count": null,
   "id": "751bd1ab",
   "metadata": {},
   "outputs": [],
   "source": [
    "So list are mutable and tuples are immutable and both are ordered (python remembers the order in which they are added) \n",
    "another thing is that sets are unordered collection of data so indexing is not possible but they are mutable unlike frozen sets"
   ]
  },
  {
   "cell_type": "code",
   "execution_count": null,
   "id": "a17f7081",
   "metadata": {},
   "outputs": [],
   "source": [
    "Operations on sets which are just add and remove"
   ]
  },
  {
   "cell_type": "code",
   "execution_count": 12,
   "id": "8c3f744b",
   "metadata": {},
   "outputs": [
    {
     "name": "stdout",
     "output_type": "stream",
     "text": [
      "{1, 2, 3, 4, 'whatsup', 5}\n",
      "{1, 2, 3, 4, 'whatsup'}\n",
      "<class 'set'>\n"
     ]
    }
   ],
   "source": [
    "newset = {1,2,3,4,'whatsup'}\n",
    "newset.add(5)\n",
    "print(newset)\n",
    "newset.remove(5)\n",
    "print(newset)\n",
    "print(type(newset))"
   ]
  },
  {
   "cell_type": "code",
   "execution_count": 14,
   "id": "0b9a7b01",
   "metadata": {},
   "outputs": [
    {
     "name": "stdout",
     "output_type": "stream",
     "text": [
      "frozenset({3, 4, 6, 7, 'yo'})\n",
      "<class 'frozenset'>\n"
     ]
    }
   ],
   "source": [
    "set_1 = frozenset([3,4,6,7,'yo'])\n",
    "print(set_1)\n",
    "print(type(set_1))"
   ]
  }
 ],
 "metadata": {
  "kernelspec": {
   "display_name": "Python 3",
   "language": "python",
   "name": "python3"
  },
  "language_info": {
   "codemirror_mode": {
    "name": "ipython",
    "version": 3
   },
   "file_extension": ".py",
   "mimetype": "text/x-python",
   "name": "python",
   "nbconvert_exporter": "python",
   "pygments_lexer": "ipython3",
   "version": "3.10.5"
  }
 },
 "nbformat": 4,
 "nbformat_minor": 5
}
